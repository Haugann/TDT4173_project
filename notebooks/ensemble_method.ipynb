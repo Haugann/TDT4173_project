{
  "nbformat": 4,
  "nbformat_minor": 0,
  "metadata": {
    "colab": {
      "name": "TDT4173_Project.ipynb",
      "provenance": [],
      "collapsed_sections": [
        "hfFG1gBUHFK7"
      ],
      "toc_visible": true
    },
    "kernelspec": {
      "name": "python3",
      "display_name": "Python 3.8.5 64-bit",
      "metadata": {
        "interpreter": {
          "hash": "082e9a3bcad0a290d0001e938aa60b99250c6c2ef33a923c00b70f9826caf4b7"
        }
      }
    },
    "accelerator": "GPU"
  },
  "cells": [
    {
      "cell_type": "markdown",
      "metadata": {
        "id": "6yZ7n3phQo42"
      },
      "source": [
        "# Imports"
      ]
    },
    {
      "cell_type": "code",
      "metadata": {
        "id": "dczejA5Dn0YS"
      },
      "source": [
        "import numpy as np\n",
        "import matplotlib.pyplot as plt\n",
        "import tensorflow as tf\n",
        "\n",
        "from tensorflow.keras import datasets, layers, models\n",
        "from tensorflow.python.framework.ops import Tensor\n",
        "\n",
        "from keras.callbacks import History\n",
        "from keras.callbacks import ModelCheckpoint, TensorBoard\n",
        "from keras.datasets import cifar10\n",
        "from keras.engine import training\n",
        "from keras.layers import Conv2D, MaxPooling2D, GlobalAveragePooling2D, Dropout, Activation, Average, Maximum\n",
        "from keras.losses import categorical_crossentropy\n",
        "from keras.models import Model, Input\n",
        "from keras.optimizers import Adam\n",
        "from keras.utils import to_categorical\n",
        "\n",
        "from typing import Tuple, List\n",
        "import glob\n",
        "import os"
      ],
      "execution_count": 1,
      "outputs": []
    },
    {
      "cell_type": "markdown",
      "metadata": {
        "id": "Is5_G2ucBHKR"
      },
      "source": [
        "# Load and prepare dataset\n",
        "\n",
        "The CIFAR10 dataset contains 60 000 color images in 10 classes, with 6,000 images in each class. The dataset is divided into 50,000 training images and 10,000 testing images. The classes are mutually exclusive and there is no overlap between them. "
      ]
    },
    {
      "cell_type": "code",
      "metadata": {
        "id": "mOytPMU-BTud"
      },
      "source": [
        "(train_images, train_labels), (test_images, test_labels) = datasets.cifar10.load_data()\n",
        "train_images, test_images = train_images / 255.0, test_images / 255.0\n",
        "train_labels = to_categorical(train_labels, num_classes=10)"
      ],
      "execution_count": 2,
      "outputs": []
    },
    {
      "cell_type": "markdown",
      "metadata": {
        "id": "2NbZ6jw7Q68l"
      },
      "source": [
        "# CNN model creation for ensamble method"
      ]
    },
    {
      "cell_type": "code",
      "metadata": {
        "id": "d9rjUbPOCf1X"
      },
      "source": [
        "def cifar10_cnn_model(model_input: Tensor, model_name: str) -> training.Model:\n",
        "    \n",
        "    x = Conv2D(96, kernel_size=(3, 3), activation='relu', padding = 'same')(model_input)\n",
        "    x = Conv2D(96, (3, 3), activation='relu', padding = 'same')(x)\n",
        "    x = Conv2D(96, (3, 3), activation='relu', padding = 'same')(x)\n",
        "    x = MaxPooling2D(pool_size=(3, 3), strides = 2)(x)\n",
        "    x = Conv2D(192, (3, 3), activation='relu', padding = 'same')(x)\n",
        "    x = Conv2D(192, (3, 3), activation='relu', padding = 'same')(x)\n",
        "    x = Conv2D(192, (3, 3), activation='relu', padding = 'same')(x)\n",
        "    x = MaxPooling2D(pool_size=(3, 3), strides = 2)(x)\n",
        "    x = Conv2D(192, (3, 3), activation='relu', padding = 'same')(x)\n",
        "    x = Conv2D(192, (1, 1), activation='relu')(x)\n",
        "    x = Conv2D(10, (1, 1))(x)\n",
        "    x = GlobalAveragePooling2D()(x)\n",
        "    x = Activation(activation='softmax')(x)\n",
        "    \n",
        "    model = Model(model_input, x, name=model_name)\n",
        "    \n",
        "    return model\n",
        "\n",
        "def make_cnn_model(train_data: np.ndarray, model_name: str):\n",
        "\tinput_shape = train_data[0,:,:,:].shape # (32,32,3)\n",
        "\tmodel_input = Input(shape=input_shape)\n",
        "\n",
        "\treturn cifar10_cnn_model(model_input, model_name)"
      ],
      "execution_count": 3,
      "outputs": []
    },
    {
      "cell_type": "markdown",
      "metadata": {
        "id": "Qdv1fY_7SPPX"
      },
      "source": [
        "## Test train small model"
      ]
    },
    {
      "cell_type": "code",
      "metadata": {
        "id": "b-OkCYYkSSNv"
      },
      "source": [
        "NUM_EPOCHS = 15\n",
        "\n",
        "# Note: Requires 'weights' folder to exist in order to save weights\n",
        "\n",
        "def compile_and_train(model: training.Model, num_epochs: int, x_train: np.ndarray, y_train: np.ndarray, class_weights: dict) -> Tuple [History, str]: \n",
        "    \n",
        "    model.compile(loss=categorical_crossentropy, optimizer=Adam(), metrics=['acc']) \n",
        "    filepath = 'weights/' + model.name + '.{epoch:02d}-{loss:.2f}.hdf5'\n",
        "    checkpoint = ModelCheckpoint(filepath, monitor='loss', verbose=0, save_weights_only=True, save_best_only=True, mode='auto')\n",
        "    tensor_board = TensorBoard(log_dir='logs/', histogram_freq=0, batch_size=32)\n",
        "    history = model.fit(x=x_train, y=y_train, batch_size=32, \n",
        "                     epochs=num_epochs, verbose=1, callbacks=[checkpoint, tensor_board], validation_split=0.2, class_weight=class_weights)\n",
        "    weight_files = glob.glob(os.path.join(os.getcwd(), 'weights/*'))\n",
        "    weight_file = max(weight_files, key=os.path.getctime) # most recent file\n",
        "    return history, weight_file\n",
        "\n",
        "def evaluate_error(model: training.Model, test_data: np.ndarray, labels: np.ndarray) -> np.float64:\n",
        "    pred = model.predict(test_data, batch_size = 32)\n",
        "    pred = np.argmax(pred, axis=1)\n",
        "    pred = np.expand_dims(pred, axis=1) # make same shape as y_test\n",
        "    error = np.sum(np.not_equal(pred, labels)) / labels.shape[0]   \n",
        " \n",
        "    return error\n",
        "\n",
        "best_weight = {}\n",
        "    "
      ],
      "execution_count": 4,
      "outputs": []
    },
    {
      "cell_type": "code",
      "metadata": {
        "id": "_DuZpGEASjSb",
        "colab": {
          "base_uri": "https://localhost:8080/"
        },
        "outputId": "6e1b8376-d8be-4c1d-be18-412a8c1a50fd"
      },
      "source": [
        "# Instantiate and display model \n",
        "car_plane_classifier = make_cnn_model(train_images, 'car_and_plane')\n",
        "bird_cat_classifier = make_cnn_model(train_images, 'bird_and_cat')\n",
        "deer_dog_classifier = make_cnn_model(train_images, 'deer_and_dog')\n",
        "frog_horse_classifier = make_cnn_model(train_images, 'frog_and_horse')\n",
        "ship_truck_classifier = make_cnn_model(train_images, 'ship_and_truck')\n",
        "\n",
        "car_plane_classifier.summary()"
      ],
      "execution_count": 5,
      "outputs": [
        {
          "output_type": "stream",
          "name": "stdout",
          "text": [
            "Model: \"car_and_plane\"\n_________________________________________________________________\nLayer (type)                 Output Shape              Param #   \n=================================================================\ninput_1 (InputLayer)         [(None, 32, 32, 3)]       0         \n_________________________________________________________________\nconv2d (Conv2D)              (None, 32, 32, 96)        2688      \n_________________________________________________________________\nconv2d_1 (Conv2D)            (None, 32, 32, 96)        83040     \n_________________________________________________________________\nconv2d_2 (Conv2D)            (None, 32, 32, 96)        83040     \n_________________________________________________________________\nmax_pooling2d (MaxPooling2D) (None, 15, 15, 96)        0         \n_________________________________________________________________\nconv2d_3 (Conv2D)            (None, 15, 15, 192)       166080    \n_________________________________________________________________\nconv2d_4 (Conv2D)            (None, 15, 15, 192)       331968    \n_________________________________________________________________\nconv2d_5 (Conv2D)            (None, 15, 15, 192)       331968    \n_________________________________________________________________\nmax_pooling2d_1 (MaxPooling2 (None, 7, 7, 192)         0         \n_________________________________________________________________\nconv2d_6 (Conv2D)            (None, 7, 7, 192)         331968    \n_________________________________________________________________\nconv2d_7 (Conv2D)            (None, 7, 7, 192)         37056     \n_________________________________________________________________\nconv2d_8 (Conv2D)            (None, 7, 7, 10)          1930      \n_________________________________________________________________\nglobal_average_pooling2d (Gl (None, 10)                0         \n_________________________________________________________________\nactivation (Activation)      (None, 10)                0         \n=================================================================\nTotal params: 1,369,738\nTrainable params: 1,369,738\nNon-trainable params: 0\n_________________________________________________________________\n"
          ]
        }
      ]
    },
    {
      "cell_type": "markdown",
      "metadata": {
        "id": "hfFG1gBUHFK7"
      },
      "source": [
        "## Training the individual models"
      ]
    },
    {
      "cell_type": "code",
      "metadata": {
        "id": "iZ_Cu6jeztDY",
        "colab": {
          "base_uri": "https://localhost:8080/",
          "height": 480
        },
        "outputId": "3534f66d-3991-4adb-e5ed-9c5e5aad1d25"
      },
      "source": [
        "car_plane_class_weight = {\n",
        "    0: 5,\n",
        "    1: 5,\n",
        "    2: 1,\n",
        "    3: 1,\n",
        "    4: 1,\n",
        "    5: 1,\n",
        "    6: 1,\n",
        "    7: 1,\n",
        "    8: 1,\n",
        "    9: 1\n",
        "}\n",
        "history_1, car_plane_classifier_weights = compile_and_train(car_plane_classifier, NUM_EPOCHS, train_images, train_labels, car_plane_class_weight)\n",
        "best_weight[0] = car_plane_classifier_weights\n",
        "\n"
      ],
      "execution_count": null,
      "outputs": []
    },
    {
      "cell_type": "code",
      "metadata": {
        "id": "bZef3RM5HJ4p"
      },
      "source": [
        "bird_cat_class_weight = {\n",
        "    0: 1,\n",
        "    1: 1,\n",
        "    2: 5,\n",
        "    3: 5,\n",
        "    4: 1,\n",
        "    5: 1,\n",
        "    6: 1,\n",
        "    7: 1,\n",
        "    8: 1,\n",
        "    9: 1\n",
        "}\n",
        "history_2, bird_cat_classifier_weights = compile_and_train(bird_cat_classifier, NUM_EPOCHS, train_images, train_labels, bird_cat_class_weight)\n",
        "best_weight[1] = bird_cat_classifier_weights\n"
      ],
      "execution_count": null,
      "outputs": []
    },
    {
      "cell_type": "code",
      "metadata": {
        "id": "5TU4S7ysZcQX"
      },
      "source": [
        "deer_dog_class_weight = {\n",
        "    0: 1,\n",
        "    1: 1,\n",
        "    2: 1,\n",
        "    3: 1,\n",
        "    4: 5,\n",
        "    5: 5,\n",
        "    6: 1,\n",
        "    7: 1,\n",
        "    8: 1,\n",
        "    9: 1\n",
        "}\n",
        "history_3, deer_dog_weights = compile_and_train(deer_dog_classifier, NUM_EPOCHS, train_images, train_labels, deer_dog_class_weight)\n",
        "best_weight[2] = deer_dog_weights"
      ],
      "execution_count": null,
      "outputs": []
    },
    {
      "cell_type": "code",
      "metadata": {
        "id": "ch4RSeY8b3tT"
      },
      "source": [
        "frog_horse_class_weight = {\n",
        "    0: 1,\n",
        "    1: 1,\n",
        "    2: 1,\n",
        "    3: 1,\n",
        "    4: 1,\n",
        "    5: 1,\n",
        "    6: 5,\n",
        "    7: 5,\n",
        "    8: 1,\n",
        "    9: 1\n",
        "}\n",
        "history_4, frog_horse_classifier_weights = compile_and_train(frog_horse_classifier, NUM_EPOCHS, train_images, train_labels, frog_horse_class_weight)\n",
        "best_weight[3] = frog_horse_classifier_weights"
      ],
      "execution_count": null,
      "outputs": []
    },
    {
      "cell_type": "code",
      "metadata": {
        "id": "wW4tWUcNchLU"
      },
      "source": [
        "ship_truck_class_weight = {\n",
        "    0: 1,\n",
        "    1: 1,\n",
        "    2: 1,\n",
        "    3: 1,\n",
        "    4: 1,\n",
        "    5: 1,\n",
        "    6: 1,\n",
        "    7: 1,\n",
        "    8: 5,\n",
        "    9: 5\n",
        "}\n",
        "history_5, ship_truck_classifier_weights = compile_and_train(ship_truck_classifier, NUM_EPOCHS, train_images, train_labels, ship_truck_class_weight)\n",
        "best_weight[4] = ship_truck_classifier_weights"
      ],
      "execution_count": null,
      "outputs": []
    },
    {
      "cell_type": "markdown",
      "metadata": {
        "id": "H-mDxIxhv4s0"
      },
      "source": [
        "# Voting-based Ensamble method\n",
        "\n",
        "When making the voting based ensamble method we will initialize each classifier using the weights achieved in the training process, and then combining them using a weighted average."
      ]
    },
    {
      "cell_type": "code",
      "metadata": {
        "id": "QCSFJozMv6Xz"
      },
      "source": [
        "model_input = Input(shape= train_images[0,:,:,:].shape)\n",
        "models = [car_plane_classifier, bird_cat_classifier]\n",
        "\n",
        "def ensemble(models: List [training.Model], model_input: Tensor) -> training.Model:\n",
        "    outputs = [model.outputs[0] for model in models]\n",
        "    y = Average()(outputs)\n",
        "    model = Model(model_input, y, name='ensemble')\n",
        "    \n",
        "    return model"
      ],
      "execution_count": 6,
      "outputs": []
    },
    {
      "cell_type": "code",
      "metadata": {
        "id": "4ec9kLxPnBp3"
      },
      "source": [
        "best_weight = {0:\"bird_and_cat.15-0.43.hdf5\",1:\"car_and_plane.15-0.31.hdf5\",2:\"deer_and_dog.15-0.35.hdf5\",3:\"frog_and_horse.15-0.30.hdf5\",4:\"ship_and_truck.15-0.32.hdf5\"} "
      ],
      "execution_count": 7,
      "outputs": []
    },
    {
      "cell_type": "code",
      "metadata": {
        "id": "CGpoYLjSfuAA"
      },
      "source": [
        "CAR_PLANE_WEIGHT = os.path.join(os.getcwd(), '../weights/ensemble',best_weight[0] )\n",
        "BIRD_CAT_WEIGHT = os.path.join(os.getcwd(), '../weights/ensemble', best_weight[1]  )\n",
        "DEER_DOG_WEIGHT = os.path.join(os.getcwd(), '../weights/ensemble', best_weight[2] )\n",
        "FROG_HORSE_WEIGHT = os.path.join(os.getcwd(), '../weights/ensemble', best_weight[3] )\n",
        "SHIP_TRUCK_WEIGHT = os.path.join(os.getcwd(), '../weights/ensemble', best_weight[4] )\n",
        "\n",
        "car_plane_classifier = cifar10_cnn_model(model_input, 'car_and_plane')\n",
        "bird_cat_classifier = cifar10_cnn_model(model_input, 'bird_and_cat')\n",
        "deer_dog_classifier = cifar10_cnn_model(model_input, 'deer_and_dog')\n",
        "frog_horse_classifier = cifar10_cnn_model(model_input, 'frog_and_horse')\n",
        "ship_truck_classifier = cifar10_cnn_model(model_input, 'ship_and_truck')\n",
        "\n",
        "car_plane_classifier.load_weights(CAR_PLANE_WEIGHT)\n",
        "bird_cat_classifier.load_weights(BIRD_CAT_WEIGHT)\n",
        "deer_dog_classifier.load_weights(DEER_DOG_WEIGHT)\n",
        "frog_horse_classifier.load_weights(FROG_HORSE_WEIGHT)\n",
        "ship_truck_classifier.load_weights(SHIP_TRUCK_WEIGHT)"
      ],
      "execution_count": 9,
      "outputs": []
    },
    {
      "cell_type": "code",
      "metadata": {
        "id": "S3lCci6lfwVW",
        "colab": {
          "base_uri": "https://localhost:8080/"
        },
        "outputId": "16594524-3447-487c-ec71-f497ea99421c"
      },
      "source": [
        "models = [car_plane_classifier, bird_cat_classifier, deer_dog_classifier, frog_horse_classifier, ship_truck_classifier]\n",
        "ensemble_ = ensemble(models, model_input)\n",
        "\n",
        "print(evaluate_error(ensemble_, test_images, test_labels))\n"
      ],
      "execution_count": 10,
      "outputs": [
        {
          "output_type": "stream",
          "name": "stdout",
          "text": [
            "0.1647\n"
          ]
        }
      ]
    },
    {
      "cell_type": "code",
      "execution_count": null,
      "metadata": {},
      "outputs": [],
      "source": []
    }
  ]
}